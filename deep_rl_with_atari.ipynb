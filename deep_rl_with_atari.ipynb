{
 "cells": [
  {
   "cell_type": "markdown",
   "metadata": {},
   "source": [
    "# 深層強化学習で画像入力のエージェントを学習させルーム\n",
    "\n",
    "* gym を pip で入れた人は: pip install gym[atari]\n",
    "* gym をgithubのソースから入れた人は gym ディレクトリで : pip install -e .[atari]\n",
    "\n",
    "この他， 環境はpip install gym[ナントカ] で環境を追加できます [環境](https://github.com/openai/gym#environments)"
   ]
  },
  {
   "cell_type": "code",
   "execution_count": 2,
   "metadata": {
    "collapsed": true
   },
   "outputs": [],
   "source": [
    "# 数値計算に必須のもろもろ\n",
    "import numpy as np\n",
    "\n",
    "# 可視化パッケージ \n",
    "import matplotlib.pyplot as plt\n",
    "from IPython import display\n",
    "%matplotlib inline\n",
    "\n",
    "# seaborn を入れてない人は以下をコメントアウト\n",
    "import seaborn as sns\n",
    "sns.set_style('darkgrid')"
   ]
  },
  {
   "cell_type": "code",
   "execution_count": 9,
   "metadata": {
    "collapsed": false
   },
   "outputs": [
    {
     "name": "stdout",
     "output_type": "stream",
     "text": [
      "[EnvSpec(PredictActionsCartpole-v0), EnvSpec(Asteroids-ramDeterministic-v0), EnvSpec(Asteroids-ramDeterministic-v3), EnvSpec(Gopher-ramDeterministic-v3), EnvSpec(Gopher-ramDeterministic-v0), EnvSpec(DoubleDunk-ramDeterministic-v3), EnvSpec(DoubleDunk-ramDeterministic-v0), EnvSpec(Tennis-ramNoFrameskip-v3), EnvSpec(RoadRunner-ramDeterministic-v0), EnvSpec(Robotank-ram-v3), EnvSpec(CartPole-v0), EnvSpec(CartPole-v1), EnvSpec(Gopher-ram-v3), EnvSpec(Gopher-ram-v0), EnvSpec(Pooyan-ram-v0), EnvSpec(Pooyan-ram-v3), EnvSpec(SpaceInvaders-ram-v3), EnvSpec(CarRacing-v0), EnvSpec(SpaceInvaders-ram-v0), EnvSpec(YarsRevenge-ramDeterministic-v0), EnvSpec(SpaceInvadersDeterministic-v0), EnvSpec(DoubleDunk-ram-v3), EnvSpec(DoubleDunk-ram-v0), EnvSpec(SpaceInvadersDeterministic-v3), EnvSpec(Centipede-v3), EnvSpec(Centipede-v0), EnvSpec(Pitfall-ramNoFrameskip-v3), EnvSpec(Pitfall-ramNoFrameskip-v0), EnvSpec(Frostbite-ramNoFrameskip-v0), EnvSpec(Phoenix-ram-v3), EnvSpec(AmidarNoFrameskip-v3), EnvSpec(SkiingNoFrameskip-v0), EnvSpec(SkiingNoFrameskip-v3), EnvSpec(HotterColder-v0), EnvSpec(RoadRunner-ramDeterministic-v3), EnvSpec(Phoenix-ram-v0), EnvSpec(Tennis-ramNoFrameskip-v0), EnvSpec(Berzerk-ramNoFrameskip-v3), EnvSpec(Berzerk-ramNoFrameskip-v0), EnvSpec(AirRaidDeterministic-v3), EnvSpec(AirRaidDeterministic-v0), EnvSpec(ChopperCommandDeterministic-v3), EnvSpec(AirRaidNoFrameskip-v0), EnvSpec(AirRaidNoFrameskip-v3), EnvSpec(ChopperCommandDeterministic-v0), EnvSpec(Asteroids-ram-v0), EnvSpec(Asteroids-ram-v3), EnvSpec(KrullDeterministic-v0), EnvSpec(Atlantis-ramDeterministic-v3), EnvSpec(Atlantis-ramDeterministic-v0), EnvSpec(KrullDeterministic-v3), EnvSpec(OffSwitchCartpoleProb-v0), EnvSpec(TimePilot-v3), EnvSpec(Go19x19-v0), EnvSpec(TimePilot-v0), EnvSpec(Solaris-ram-v0), EnvSpec(Solaris-ram-v3), EnvSpec(VentureDeterministic-v3), EnvSpec(FishingDerbyNoFrameskip-v3), EnvSpec(FishingDerbyNoFrameskip-v0), EnvSpec(Robotank-ram-v0), EnvSpec(Qbert-v3), EnvSpec(ReversedAddition-v0), EnvSpec(Qbert-v0), EnvSpec(Pitfall-v0), EnvSpec(Pitfall-v3), EnvSpec(RiverraidNoFrameskip-v0), EnvSpec(RiverraidNoFrameskip-v3), EnvSpec(BipedalWalkerHardcore-v2), EnvSpec(Venture-ram-v3), EnvSpec(Venture-ram-v0), EnvSpec(Tennis-v0), EnvSpec(Tennis-v3), EnvSpec(MontezumaRevenge-ramNoFrameskip-v0), EnvSpec(MontezumaRevenge-ramNoFrameskip-v3), EnvSpec(Go9x9-v0), EnvSpec(MountainCarContinuous-v0), EnvSpec(SemisuperPendulumNoise-v0), EnvSpec(Reacher-v1), EnvSpec(ChopperCommand-ramNoFrameskip-v0), EnvSpec(Taxi-v2), EnvSpec(Pong-v3), EnvSpec(Pong-v0), EnvSpec(UpNDownDeterministic-v0), EnvSpec(UpNDownDeterministic-v3), EnvSpec(Enduro-v0), EnvSpec(Enduro-v3), EnvSpec(Zaxxon-ramDeterministic-v3), EnvSpec(Krull-ramNoFrameskip-v0), EnvSpec(Krull-ramNoFrameskip-v3), EnvSpec(ElevatorAction-ramNoFrameskip-v3), EnvSpec(ElevatorAction-ramNoFrameskip-v0), EnvSpec(Venture-ramNoFrameskip-v3), EnvSpec(QbertNoFrameskip-v3), EnvSpec(Venture-ramNoFrameskip-v0), EnvSpec(StarGunner-ramNoFrameskip-v3), EnvSpec(StarGunner-ramNoFrameskip-v0), EnvSpec(NameThisGame-ram-v3), EnvSpec(YarsRevenge-ramDeterministic-v3), EnvSpec(Breakout-ram-v0), EnvSpec(Breakout-ram-v3), EnvSpec(PrivateEye-ramNoFrameskip-v3), EnvSpec(Bowling-v0), EnvSpec(Bowling-v3), EnvSpec(PrivateEye-ramNoFrameskip-v0), EnvSpec(BattleZoneDeterministic-v3), EnvSpec(BattleZoneDeterministic-v0), EnvSpec(PitfallNoFrameskip-v0), EnvSpec(PitfallNoFrameskip-v3), EnvSpec(AirRaid-ramDeterministic-v0), EnvSpec(AirRaid-ramDeterministic-v3), EnvSpec(CentipedeNoFrameskip-v0), EnvSpec(Skiing-ram-v0), EnvSpec(CentipedeNoFrameskip-v3), EnvSpec(EnduroDeterministic-v3), EnvSpec(VentureNoFrameskip-v0), EnvSpec(SpaceInvaders-ramNoFrameskip-v3), EnvSpec(Freeway-ram-v3), EnvSpec(Skiing-ram-v3), EnvSpec(ConvergenceControl-v0), EnvSpec(Riverraid-ramNoFrameskip-v3), EnvSpec(Riverraid-ramNoFrameskip-v0), EnvSpec(ChopperCommand-v3), EnvSpec(ChopperCommand-v0), EnvSpec(Pooyan-v0), EnvSpec(Pooyan-v3), EnvSpec(BattleZoneNoFrameskip-v0), EnvSpec(PrivateEye-v3), EnvSpec(PrivateEye-v0), EnvSpec(BattleZoneNoFrameskip-v3), EnvSpec(FrozenLake8x8-v0), EnvSpec(Alien-ramNoFrameskip-v0), EnvSpec(Alien-ramNoFrameskip-v3), EnvSpec(WizardOfWor-ramDeterministic-v0), EnvSpec(TutankhamDeterministic-v0), EnvSpec(TutankhamDeterministic-v3), EnvSpec(LunarLanderContinuous-v2), EnvSpec(UpNDown-ramDeterministic-v3), EnvSpec(UpNDown-ramDeterministic-v0), EnvSpec(Phoenix-ramNoFrameskip-v3), EnvSpec(Phoenix-ramNoFrameskip-v0), EnvSpec(Asterix-ram-v3), EnvSpec(Asterix-ram-v0), EnvSpec(Jamesbond-ramNoFrameskip-v3), EnvSpec(Jamesbond-ramNoFrameskip-v0), EnvSpec(JourneyEscape-v0), EnvSpec(JourneyEscape-v3), EnvSpec(BipedalWalker-v2), EnvSpec(CrazyClimberDeterministic-v3), EnvSpec(CrazyClimberDeterministic-v0), EnvSpec(FishingDerby-ramDeterministic-v3), EnvSpec(QbertDeterministic-v0), EnvSpec(SpaceInvaders-ramDeterministic-v3), EnvSpec(QbertDeterministic-v3), EnvSpec(SolarisDeterministic-v0), EnvSpec(SolarisDeterministic-v3), EnvSpec(YarsRevengeDeterministic-v0), EnvSpec(YarsRevengeDeterministic-v3), EnvSpec(SpaceInvaders-ramDeterministic-v0), EnvSpec(TwoRoundDeterministicReward-v0), EnvSpec(Bowling-ramNoFrameskip-v3), EnvSpec(Bowling-ramNoFrameskip-v0), EnvSpec(JourneyEscapeDeterministic-v3), EnvSpec(NameThisGame-ramNoFrameskip-v0), EnvSpec(TwoRoundNondeterministicReward-v0), EnvSpec(AmidarNoFrameskip-v0), EnvSpec(TimePilotNoFrameskip-v0), EnvSpec(MsPacmanDeterministic-v0), EnvSpec(MsPacmanDeterministic-v3), EnvSpec(Pooyan-ramDeterministic-v0), EnvSpec(Frostbite-ramNoFrameskip-v3), EnvSpec(PhoenixDeterministic-v3), EnvSpec(PhoenixDeterministic-v0), EnvSpec(CrazyClimber-ram-v0), EnvSpec(MontezumaRevenge-ram-v0), EnvSpec(MontezumaRevenge-ram-v3), EnvSpec(CrazyClimber-ram-v3), EnvSpec(StarGunner-ramDeterministic-v0), EnvSpec(StarGunner-ramDeterministic-v3), EnvSpec(Centipede-ramNoFrameskip-v3), EnvSpec(Centipede-ramNoFrameskip-v0), EnvSpec(BeamRider-ramDeterministic-v0), EnvSpec(BeamRider-ramDeterministic-v3), EnvSpec(KungFuMaster-v0), EnvSpec(KungFuMaster-v3), EnvSpec(Jamesbond-ramDeterministic-v0), EnvSpec(BreakoutDeterministic-v3), EnvSpec(BreakoutDeterministic-v0), EnvSpec(Jamesbond-ramDeterministic-v3), EnvSpec(IceHockey-v0), EnvSpec(IceHockey-v3), EnvSpec(Venture-ramDeterministic-v0), EnvSpec(Carnival-ram-v0), EnvSpec(Venture-ramDeterministic-v3), EnvSpec(PongDeterministic-v3), EnvSpec(RobotankDeterministic-v0), EnvSpec(RobotankDeterministic-v3), EnvSpec(PongDeterministic-v0), EnvSpec(Pong-ramDeterministic-v0), EnvSpec(Pong-ramDeterministic-v3), EnvSpec(NameThisGame-ramNoFrameskip-v3), EnvSpec(Berzerk-v3), EnvSpec(Berzerk-v0), EnvSpec(SemisuperPendulumDecay-v0), EnvSpec(MontezumaRevenge-v0), EnvSpec(JourneyEscape-ramDeterministic-v3), EnvSpec(JourneyEscape-ramDeterministic-v0), EnvSpec(MontezumaRevenge-v3), EnvSpec(AirRaid-ram-v0), EnvSpec(AirRaid-ram-v3), EnvSpec(Zaxxon-v0), EnvSpec(BeamRiderDeterministic-v3), EnvSpec(YarsRevenge-ramNoFrameskip-v0), EnvSpec(YarsRevenge-ramNoFrameskip-v3), EnvSpec(BeamRiderDeterministic-v0), EnvSpec(RoadRunner-ramNoFrameskip-v0), EnvSpec(TimePilotNoFrameskip-v3), EnvSpec(Phoenix-ramDeterministic-v0), EnvSpec(StarGunner-ram-v0), EnvSpec(Phoenix-ramDeterministic-v3), EnvSpec(Hex9x9-v0), EnvSpec(Skiing-v0), EnvSpec(Skiing-v3), EnvSpec(StarGunner-ram-v3), EnvSpec(Boxing-ramDeterministic-v0), EnvSpec(Boxing-ramDeterministic-v3), EnvSpec(AsteroidsDeterministic-v3), EnvSpec(PrivateEye-ram-v3), EnvSpec(Pooyan-ramDeterministic-v3), EnvSpec(Centipede-ramDeterministic-v0), EnvSpec(Centipede-ramDeterministic-v3), EnvSpec(JourneyEscapeNoFrameskip-v3), EnvSpec(JourneyEscapeNoFrameskip-v0), EnvSpec(BattleZone-ramDeterministic-v0), EnvSpec(BattleZone-ramDeterministic-v3), EnvSpec(NameThisGameNoFrameskip-v0), EnvSpec(NameThisGameNoFrameskip-v3), EnvSpec(Seaquest-ram-v3), EnvSpec(Seaquest-ram-v0), EnvSpec(AsteroidsDeterministic-v0), EnvSpec(ElevatorAction-ram-v3), EnvSpec(ElevatorAction-ram-v0), EnvSpec(ChopperCommand-ramDeterministic-v0), EnvSpec(Zaxxon-ramNoFrameskip-v3), EnvSpec(ChopperCommand-ramDeterministic-v3), EnvSpec(Krull-ramDeterministic-v3), EnvSpec(Krull-ramDeterministic-v0), EnvSpec(BankHeistDeterministic-v0), EnvSpec(BankHeistDeterministic-v3), EnvSpec(VideoPinballDeterministic-v3), EnvSpec(Reverse-v0), EnvSpec(Zaxxon-ramNoFrameskip-v0), EnvSpec(SeaquestDeterministic-v0), EnvSpec(SeaquestDeterministic-v3), EnvSpec(JourneyEscape-ram-v0), EnvSpec(JourneyEscape-ram-v3), EnvSpec(BerzerkDeterministic-v3), EnvSpec(BerzerkDeterministic-v0), EnvSpec(AssaultNoFrameskip-v0), EnvSpec(Enduro-ramDeterministic-v0), EnvSpec(Enduro-ramDeterministic-v3), EnvSpec(AssaultNoFrameskip-v3), EnvSpec(QbertNoFrameskip-v0), EnvSpec(Gopher-ramNoFrameskip-v0), EnvSpec(IceHockey-ramDeterministic-v0), EnvSpec(IceHockey-ramDeterministic-v3), EnvSpec(Gopher-ramNoFrameskip-v3), EnvSpec(PhoenixNoFrameskip-v0), EnvSpec(PhoenixNoFrameskip-v3), EnvSpec(Humanoid-v1), EnvSpec(NameThisGame-ram-v0), EnvSpec(Tutankham-ramNoFrameskip-v0), EnvSpec(Tutankham-ramNoFrameskip-v3), EnvSpec(MsPacman-ramNoFrameskip-v0), EnvSpec(ReversedAddition3-v0), EnvSpec(Assault-ramDeterministic-v0), EnvSpec(Atlantis-ramNoFrameskip-v0), EnvSpec(Atlantis-ramNoFrameskip-v3), EnvSpec(Assault-ramDeterministic-v3), EnvSpec(Skiing-ramNoFrameskip-v0), EnvSpec(BreakoutNoFrameskip-v0), EnvSpec(BreakoutNoFrameskip-v3), EnvSpec(KungFuMaster-ram-v0), EnvSpec(KungFuMaster-ram-v3), EnvSpec(OneRoundNondeterministicReward-v0), EnvSpec(NameThisGame-ramDeterministic-v0), EnvSpec(NameThisGame-ramDeterministic-v3), EnvSpec(RoadRunner-ramNoFrameskip-v3), EnvSpec(Frostbite-ramDeterministic-v3), EnvSpec(Frostbite-ramDeterministic-v0), EnvSpec(BankHeist-ramNoFrameskip-v0), EnvSpec(BankHeist-ramNoFrameskip-v3), EnvSpec(Qbert-ramNoFrameskip-v0), EnvSpec(Ant-v1), EnvSpec(Qbert-ramNoFrameskip-v3), EnvSpec(Skiing-ramNoFrameskip-v3), EnvSpec(YarsRevenge-ram-v0), EnvSpec(YarsRevenge-ram-v3), EnvSpec(FrostbiteNoFrameskip-v3), EnvSpec(FishingDerby-ram-v0), EnvSpec(FishingDerby-ram-v3), EnvSpec(FrostbiteNoFrameskip-v0), EnvSpec(BeamRiderNoFrameskip-v0), EnvSpec(Enduro-ramNoFrameskip-v3), EnvSpec(Enduro-ramNoFrameskip-v0), EnvSpec(BeamRiderNoFrameskip-v3), EnvSpec(CentipedeDeterministic-v3), EnvSpec(Gravitar-ramNoFrameskip-v0), EnvSpec(Gravitar-ramNoFrameskip-v3), EnvSpec(CentipedeDeterministic-v0), EnvSpec(Kangaroo-ram-v3), EnvSpec(Alien-ram-v3), EnvSpec(Kangaroo-ram-v0), EnvSpec(VideoPinball-ramNoFrameskip-v0), EnvSpec(VideoPinball-ramNoFrameskip-v3), EnvSpec(StarGunnerDeterministic-v3), EnvSpec(StarGunnerDeterministic-v0), EnvSpec(PongNoFrameskip-v0), EnvSpec(PongNoFrameskip-v3), EnvSpec(TimePilotDeterministic-v3), EnvSpec(TimePilotDeterministic-v0), EnvSpec(CNNClassifierTraining-v0), EnvSpec(Boxing-ram-v0), EnvSpec(Boxing-ram-v3), EnvSpec(Tennis-ramDeterministic-v0), EnvSpec(StarGunner-v0), EnvSpec(StarGunner-v3), EnvSpec(Tennis-ramDeterministic-v3), EnvSpec(DemonAttackNoFrameskip-v0), EnvSpec(DemonAttackNoFrameskip-v3), EnvSpec(PitfallDeterministic-v3), EnvSpec(Assault-ram-v3), EnvSpec(PooyanDeterministic-v0), EnvSpec(PooyanDeterministic-v3), EnvSpec(Assault-ram-v0), EnvSpec(Amidar-ram-v3), EnvSpec(PitfallDeterministic-v0), EnvSpec(Amidar-ram-v0), EnvSpec(ChopperCommandNoFrameskip-v0), EnvSpec(ChopperCommandNoFrameskip-v3), EnvSpec(Tutankham-ramDeterministic-v0), EnvSpec(VentureDeterministic-v0), EnvSpec(ElevatorActionDeterministic-v3), EnvSpec(Solaris-ramDeterministic-v3), EnvSpec(Solaris-ramDeterministic-v0), EnvSpec(ElevatorActionDeterministic-v0), EnvSpec(Riverraid-ram-v0), EnvSpec(Riverraid-ram-v3), EnvSpec(Solaris-v0), EnvSpec(KungFuMasterNoFrameskip-v3), EnvSpec(BattleZone-v3), EnvSpec(BattleZone-v0), EnvSpec(KungFuMasterNoFrameskip-v0), EnvSpec(MsPacmanNoFrameskip-v3), EnvSpec(MsPacmanNoFrameskip-v0), EnvSpec(VideoPinballNoFrameskip-v3), EnvSpec(Breakout-ramDeterministic-v0), EnvSpec(Breakout-ramDeterministic-v3), EnvSpec(VideoPinballNoFrameskip-v0), EnvSpec(PrivateEye-ramDeterministic-v0), EnvSpec(WizardOfWor-ram-v3), EnvSpec(WizardOfWor-ram-v0), EnvSpec(PrivateEye-ramDeterministic-v3), EnvSpec(Gravitar-v0), EnvSpec(RoadRunner-v3), EnvSpec(RoadRunner-v0), EnvSpec(Gravitar-v3), EnvSpec(RoadRunner-ram-v3), EnvSpec(Jamesbond-ram-v3), EnvSpec(RoadRunner-ram-v0), EnvSpec(MsPacman-ram-v0), EnvSpec(MsPacman-ram-v3), EnvSpec(Riverraid-ramDeterministic-v0), EnvSpec(Riverraid-ramDeterministic-v3), EnvSpec(Jamesbond-ram-v0), EnvSpec(UpNDownNoFrameskip-v3), EnvSpec(VideoPinball-ram-v3), EnvSpec(VideoPinball-ram-v0), EnvSpec(UpNDownNoFrameskip-v0), EnvSpec(OffSwitchCartpole-v0), EnvSpec(WizardOfWorNoFrameskip-v3), EnvSpec(WizardOfWorNoFrameskip-v0), EnvSpec(FreewayNoFrameskip-v3), EnvSpec(FreewayNoFrameskip-v0), EnvSpec(WizardOfWor-ramDeterministic-v3), EnvSpec(Asterix-ramNoFrameskip-v0), EnvSpec(Asterix-ramNoFrameskip-v3), EnvSpec(AlienNoFrameskip-v3), EnvSpec(AlienNoFrameskip-v0), EnvSpec(BankHeist-ramDeterministic-v3), EnvSpec(BankHeist-ramDeterministic-v0), EnvSpec(InvertedDoublePendulum-v1), EnvSpec(Asterix-v3), EnvSpec(WizardOfWor-ramNoFrameskip-v0), EnvSpec(Asterix-v0), EnvSpec(AsteroidsNoFrameskip-v0), EnvSpec(AsteroidsNoFrameskip-v3), EnvSpec(Pong-ramNoFrameskip-v3), EnvSpec(JamesbondDeterministic-v3), EnvSpec(WizardOfWor-ramNoFrameskip-v3), EnvSpec(ZaxxonDeterministic-v3), EnvSpec(ZaxxonDeterministic-v0), EnvSpec(Pong-ramNoFrameskip-v0), EnvSpec(ChopperCommand-ram-v3), EnvSpec(ChopperCommand-ram-v0), EnvSpec(SpaceInvaders-ramNoFrameskip-v0), EnvSpec(SeaquestNoFrameskip-v3), EnvSpec(JamesbondDeterministic-v0), EnvSpec(BowlingDeterministic-v3), EnvSpec(BowlingDeterministic-v0), EnvSpec(SemisuperPendulumRandom-v0), EnvSpec(BankHeist-v0), EnvSpec(BankHeist-v3), EnvSpec(TimePilot-ramDeterministic-v0), EnvSpec(TimePilot-ramDeterministic-v3), EnvSpec(NChain-v0), EnvSpec(FishingDerby-ramDeterministic-v0), EnvSpec(SeaquestNoFrameskip-v0), EnvSpec(StarGunnerNoFrameskip-v0), EnvSpec(Seaquest-v3), EnvSpec(CrazyClimber-ramNoFrameskip-v3), EnvSpec(CrazyClimber-ramNoFrameskip-v0), EnvSpec(Seaquest-v0), EnvSpec(CrazyClimber-v0), EnvSpec(CrazyClimber-v3), EnvSpec(MsPacman-ramDeterministic-v3), EnvSpec(Pitfall-ramDeterministic-v0), EnvSpec(Pitfall-ramDeterministic-v3), EnvSpec(Enduro-ram-v0), EnvSpec(MsPacman-ramDeterministic-v0), EnvSpec(Enduro-ram-v3), EnvSpec(GravitarDeterministic-v0), EnvSpec(GravitarDeterministic-v3), EnvSpec(Breakout-ramNoFrameskip-v3), EnvSpec(Swimmer-v1), EnvSpec(Alien-ram-v0), EnvSpec(Breakout-ramNoFrameskip-v0), EnvSpec(GravitarNoFrameskip-v0), EnvSpec(VideoPinballDeterministic-v0), EnvSpec(AsterixDeterministic-v0), EnvSpec(AsterixDeterministic-v3), EnvSpec(AlienDeterministic-v0), EnvSpec(AlienDeterministic-v3), EnvSpec(RoadRunnerDeterministic-v3), EnvSpec(RoadRunnerDeterministic-v0), EnvSpec(RepeatCopy-v0), EnvSpec(FrostbiteDeterministic-v0), EnvSpec(Bowling-ramDeterministic-v0), EnvSpec(Bowling-ramDeterministic-v3), EnvSpec(Carnival-ramDeterministic-v0), EnvSpec(EnduroNoFrameskip-v0), EnvSpec(EnduroNoFrameskip-v3), EnvSpec(Carnival-ramDeterministic-v3), EnvSpec(FrostbiteDeterministic-v3), EnvSpec(Asteroids-ramNoFrameskip-v3), EnvSpec(Asteroids-ramNoFrameskip-v0), EnvSpec(TennisNoFrameskip-v0), EnvSpec(DemonAttackDeterministic-v3), EnvSpec(Pitfall-ram-v0), EnvSpec(DemonAttackDeterministic-v0), EnvSpec(TennisNoFrameskip-v3), EnvSpec(DemonAttack-ram-v3), EnvSpec(DemonAttack-ram-v0), EnvSpec(UpNDown-v0), EnvSpec(BankHeistNoFrameskip-v3), EnvSpec(BankHeistNoFrameskip-v0), EnvSpec(UpNDown-v3), EnvSpec(Pitfall-ram-v3), EnvSpec(Kangaroo-ramDeterministic-v0), EnvSpec(Kangaroo-ramDeterministic-v3), EnvSpec(RobotankNoFrameskip-v3), EnvSpec(RobotankNoFrameskip-v0), EnvSpec(WizardOfWor-v3), EnvSpec(WizardOfWor-v0), EnvSpec(Hopper-v1), EnvSpec(Asterix-ramDeterministic-v3), EnvSpec(Robotank-v0), EnvSpec(BattleZone-ramNoFrameskip-v0), EnvSpec(PrivateEyeDeterministic-v3), EnvSpec(Pooyan-ramNoFrameskip-v0), EnvSpec(Pooyan-ramNoFrameskip-v3), EnvSpec(PrivateEyeDeterministic-v0), EnvSpec(ElevatorActionNoFrameskip-v0), EnvSpec(ElevatorActionNoFrameskip-v3), EnvSpec(TutankhamNoFrameskip-v0), EnvSpec(Zaxxon-ramDeterministic-v0), EnvSpec(Robotank-v3), EnvSpec(JamesbondNoFrameskip-v0), EnvSpec(JamesbondNoFrameskip-v3), EnvSpec(HumanoidStandup-v1), EnvSpec(KungFuMaster-ramDeterministic-v3), EnvSpec(KungFuMaster-ramDeterministic-v0), EnvSpec(Amidar-v3), EnvSpec(Amidar-v0), EnvSpec(BattleZone-ramNoFrameskip-v3), EnvSpec(BerzerkNoFrameskip-v0), EnvSpec(BerzerkNoFrameskip-v3), EnvSpec(Amidar-ramNoFrameskip-v3), EnvSpec(Amidar-ramNoFrameskip-v0), EnvSpec(Gravitar-ramDeterministic-v3), EnvSpec(Gravitar-ramDeterministic-v0), EnvSpec(Asterix-ramDeterministic-v0), EnvSpec(BattleZone-ram-v3), EnvSpec(BattleZone-ram-v0), EnvSpec(IceHockey-ram-v0), EnvSpec(IceHockey-ram-v3), EnvSpec(ChopperCommand-ramNoFrameskip-v3), EnvSpec(MountainCar-v0), EnvSpec(Qbert-ramDeterministic-v3), EnvSpec(Qbert-ramDeterministic-v0), EnvSpec(BeamRider-ramNoFrameskip-v3), EnvSpec(Carnival-ram-v3), EnvSpec(Carnival-v0), EnvSpec(FrozenLake-v0), EnvSpec(IceHockeyNoFrameskip-v0), EnvSpec(IceHockeyNoFrameskip-v3), EnvSpec(NameThisGameDeterministic-v3), EnvSpec(NameThisGameDeterministic-v0), EnvSpec(BeamRider-ramNoFrameskip-v0), EnvSpec(DoubleDunk-ramNoFrameskip-v0), EnvSpec(Tutankham-ram-v3), EnvSpec(DoubleDunk-ramNoFrameskip-v3), EnvSpec(YarsRevenge-v0), EnvSpec(IceHockey-ramNoFrameskip-v3), EnvSpec(IceHockey-ramNoFrameskip-v0), EnvSpec(YarsRevenge-v3), EnvSpec(MsPacman-v0), EnvSpec(Solaris-ramNoFrameskip-v0), EnvSpec(Solaris-ramNoFrameskip-v3), EnvSpec(MsPacman-v3), EnvSpec(Gopher-v3), EnvSpec(Walker2d-v1), EnvSpec(Gopher-v0), EnvSpec(Zaxxon-ram-v3), EnvSpec(Zaxxon-ram-v0), EnvSpec(DoubleDunkDeterministic-v0), EnvSpec(DoubleDunkDeterministic-v3), EnvSpec(PooyanNoFrameskip-v3), EnvSpec(PooyanNoFrameskip-v0), EnvSpec(Seaquest-ramNoFrameskip-v0), EnvSpec(Seaquest-ramNoFrameskip-v3), EnvSpec(FreewayDeterministic-v0), EnvSpec(FreewayDeterministic-v3), EnvSpec(Blackjack-v0), EnvSpec(TennisDeterministic-v3), EnvSpec(TennisDeterministic-v0), EnvSpec(Atlantis-v0), EnvSpec(Atlantis-v3), EnvSpec(EnduroDeterministic-v0), EnvSpec(GuessingGame-v0), EnvSpec(Copy-v0), EnvSpec(CrazyClimber-ramDeterministic-v0), EnvSpec(CrazyClimber-ramDeterministic-v3), EnvSpec(Phoenix-v3), EnvSpec(Phoenix-v0), EnvSpec(Alien-ramDeterministic-v3), EnvSpec(FishingDerbyDeterministic-v3), EnvSpec(CarnivalDeterministic-v3), EnvSpec(Asteroids-v0), EnvSpec(Asteroids-v3), EnvSpec(CarnivalDeterministic-v0), EnvSpec(Tutankham-ramDeterministic-v3), EnvSpec(Robotank-ramDeterministic-v3), EnvSpec(Robotank-ramDeterministic-v0), EnvSpec(IceHockeyDeterministic-v3), EnvSpec(IceHockeyDeterministic-v0), EnvSpec(Centipede-ram-v3), EnvSpec(FishingDerby-ramNoFrameskip-v0), EnvSpec(FishingDerby-ramNoFrameskip-v3), EnvSpec(Centipede-ram-v0), EnvSpec(Solaris-v3), EnvSpec(Tennis-ram-v0), EnvSpec(Assault-v3), EnvSpec(Assault-v0), EnvSpec(Tennis-ram-v3), EnvSpec(HalfCheetah-v1), EnvSpec(GopherNoFrameskip-v3), EnvSpec(GopherNoFrameskip-v0), EnvSpec(WizardOfWorDeterministic-v0), EnvSpec(WizardOfWorDeterministic-v3), EnvSpec(TimePilot-ram-v3), EnvSpec(DoubleDunk-v3), EnvSpec(DoubleDunk-v0), EnvSpec(Tutankham-v0), EnvSpec(LunarLander-v2), EnvSpec(Tutankham-v3), EnvSpec(BeamRider-v3), EnvSpec(BeamRider-v0), EnvSpec(CarnivalNoFrameskip-v0), EnvSpec(BoxingDeterministic-v3), EnvSpec(BoxingDeterministic-v0), EnvSpec(CarnivalNoFrameskip-v3), EnvSpec(Alien-v0), EnvSpec(Alien-v3), EnvSpec(Berzerk-ram-v3), EnvSpec(Berzerk-ram-v0), EnvSpec(PredictObsCartpole-v0), EnvSpec(AmidarDeterministic-v3), EnvSpec(AmidarDeterministic-v0), EnvSpec(SolarisNoFrameskip-v0), EnvSpec(GravitarNoFrameskip-v3), EnvSpec(AssaultDeterministic-v3), EnvSpec(Gravitar-ram-v0), EnvSpec(Gravitar-ram-v3), EnvSpec(AssaultDeterministic-v0), EnvSpec(Frostbite-v3), EnvSpec(Venture-v3), EnvSpec(Venture-v0), EnvSpec(Frostbite-v0), EnvSpec(Acrobot-v1), EnvSpec(Boxing-v0), EnvSpec(Boxing-v3), EnvSpec(ZaxxonNoFrameskip-v0), EnvSpec(DemonAttack-v3), EnvSpec(DemonAttack-v0), EnvSpec(ZaxxonNoFrameskip-v3), EnvSpec(Freeway-v0), EnvSpec(NameThisGame-v0), EnvSpec(NameThisGame-v3), EnvSpec(Freeway-v3), EnvSpec(KungFuMasterDeterministic-v0), EnvSpec(KungFuMasterDeterministic-v3), EnvSpec(RoadRunnerNoFrameskip-v0), EnvSpec(RoadRunnerNoFrameskip-v3), EnvSpec(Bowling-ram-v0), EnvSpec(Bowling-ram-v3), EnvSpec(Seaquest-ramDeterministic-v3), EnvSpec(Krull-ram-v3), EnvSpec(Krull-ram-v0), EnvSpec(Seaquest-ramDeterministic-v0), EnvSpec(TimePilot-ramNoFrameskip-v3), EnvSpec(TimePilot-ramNoFrameskip-v0), EnvSpec(BowlingNoFrameskip-v0), EnvSpec(BowlingNoFrameskip-v3), EnvSpec(UpNDown-ramNoFrameskip-v0), EnvSpec(UpNDown-ramNoFrameskip-v3), EnvSpec(Assault-ramNoFrameskip-v3), EnvSpec(Assault-ramNoFrameskip-v0), EnvSpec(KungFuMaster-ramNoFrameskip-v0), EnvSpec(KungFuMaster-ramNoFrameskip-v3), EnvSpec(PrivateEye-ram-v0), EnvSpec(BankHeist-ram-v0), EnvSpec(BankHeist-ram-v3), EnvSpec(YarsRevengeNoFrameskip-v3), EnvSpec(YarsRevengeNoFrameskip-v0), EnvSpec(ElevatorAction-v3), EnvSpec(ElevatorAction-v0), EnvSpec(DemonAttack-ramDeterministic-v0), EnvSpec(DemonAttack-ramDeterministic-v3), EnvSpec(Carnival-ramNoFrameskip-v3), EnvSpec(Carnival-ramNoFrameskip-v0), EnvSpec(FishingDerby-v0), EnvSpec(FishingDerby-v3), EnvSpec(MontezumaRevengeDeterministic-v0), EnvSpec(MontezumaRevengeDeterministic-v3), EnvSpec(UpNDown-ram-v3), EnvSpec(DoubleDunkNoFrameskip-v3), EnvSpec(DoubleDunkNoFrameskip-v0), EnvSpec(AsterixNoFrameskip-v3), EnvSpec(AsterixNoFrameskip-v0), EnvSpec(SolarisNoFrameskip-v3), EnvSpec(Amidar-ramDeterministic-v0), EnvSpec(Amidar-ramDeterministic-v3), EnvSpec(Pong-ram-v3), EnvSpec(Pong-ram-v0), EnvSpec(ElevatorAction-ramDeterministic-v0), EnvSpec(JourneyEscapeDeterministic-v0), EnvSpec(Pendulum-v0), EnvSpec(ElevatorAction-ramDeterministic-v3), EnvSpec(Freeway-ramDeterministic-v3), EnvSpec(Freeway-ramDeterministic-v0), EnvSpec(Breakout-v0), EnvSpec(Breakout-v3), EnvSpec(BeamRider-ram-v3), EnvSpec(Zaxxon-v3), EnvSpec(InvertedPendulum-v1), EnvSpec(BeamRider-ram-v0), EnvSpec(VideoPinball-v3), EnvSpec(VideoPinball-v0), EnvSpec(MsPacman-ramNoFrameskip-v3), EnvSpec(PrivateEyeNoFrameskip-v0), EnvSpec(PrivateEyeNoFrameskip-v3), EnvSpec(AtlantisDeterministic-v0), EnvSpec(AtlantisDeterministic-v3), EnvSpec(Berzerk-ramDeterministic-v0), EnvSpec(Berzerk-ramDeterministic-v3), EnvSpec(AirRaid-ramNoFrameskip-v3), EnvSpec(AirRaid-ramNoFrameskip-v0), EnvSpec(Roulette-v0), EnvSpec(Atlantis-ram-v0), EnvSpec(Atlantis-ram-v3), EnvSpec(Freeway-ramNoFrameskip-v0), EnvSpec(Freeway-ramNoFrameskip-v3), EnvSpec(Boxing-ramNoFrameskip-v3), EnvSpec(Boxing-ramNoFrameskip-v0), EnvSpec(Jamesbond-v3), EnvSpec(Jamesbond-v0), EnvSpec(Skiing-ramDeterministic-v0), EnvSpec(SpaceInvaders-v3), EnvSpec(Skiing-ramDeterministic-v3), EnvSpec(CrazyClimberNoFrameskip-v0), EnvSpec(CrazyClimberNoFrameskip-v3), EnvSpec(KangarooNoFrameskip-v0), EnvSpec(AtlantisNoFrameskip-v3), EnvSpec(AtlantisNoFrameskip-v0), EnvSpec(KangarooNoFrameskip-v3), EnvSpec(SpaceInvaders-v0), EnvSpec(SpaceInvadersNoFrameskip-v3), EnvSpec(StarGunnerNoFrameskip-v3), EnvSpec(Kangaroo-ramNoFrameskip-v3), EnvSpec(Kangaroo-ramNoFrameskip-v0), EnvSpec(FishingDerbyDeterministic-v0), EnvSpec(SpaceInvadersNoFrameskip-v0), EnvSpec(DuplicatedInput-v0), EnvSpec(Robotank-ramNoFrameskip-v0), EnvSpec(Robotank-ramNoFrameskip-v3), EnvSpec(Qbert-ram-v3), EnvSpec(DemonAttack-ramNoFrameskip-v3), EnvSpec(DemonAttack-ramNoFrameskip-v0), EnvSpec(Frostbite-ram-v3), EnvSpec(GopherDeterministic-v0), EnvSpec(GopherDeterministic-v3), EnvSpec(Frostbite-ram-v0), EnvSpec(Alien-ramDeterministic-v0), EnvSpec(VideoPinball-ramDeterministic-v3), EnvSpec(OneRoundDeterministicReward-v0), EnvSpec(VideoPinball-ramDeterministic-v0), EnvSpec(Qbert-ram-v0), EnvSpec(Tutankham-ram-v0), EnvSpec(TutankhamNoFrameskip-v3), EnvSpec(SkiingDeterministic-v3), EnvSpec(Freeway-ram-v0), EnvSpec(KangarooDeterministic-v3), EnvSpec(AirRaid-v0), EnvSpec(AirRaid-v3), EnvSpec(KangarooDeterministic-v0), EnvSpec(VentureNoFrameskip-v3), EnvSpec(Krull-v3), EnvSpec(JourneyEscape-ramNoFrameskip-v0), EnvSpec(JourneyEscape-ramNoFrameskip-v3), EnvSpec(Krull-v0), EnvSpec(KrullNoFrameskip-v3), EnvSpec(Riverraid-v0), EnvSpec(Riverraid-v3), EnvSpec(KrullNoFrameskip-v0), EnvSpec(MontezumaRevenge-ramDeterministic-v3), EnvSpec(MontezumaRevenge-ramDeterministic-v0), EnvSpec(RiverraidDeterministic-v3), EnvSpec(RiverraidDeterministic-v0), EnvSpec(Carnival-v3), EnvSpec(TimePilot-ram-v0), EnvSpec(MontezumaRevengeNoFrameskip-v3), EnvSpec(BoxingNoFrameskip-v0), EnvSpec(BoxingNoFrameskip-v3), EnvSpec(MontezumaRevengeNoFrameskip-v0), EnvSpec(SkiingDeterministic-v0), EnvSpec(UpNDown-ram-v0), EnvSpec(Kangaroo-v3), EnvSpec(Kangaroo-v0)]\n"
     ]
    }
   ],
   "source": [
    "# OpenAI Gym\n",
    "import gym\n",
    "\n",
    "# 利用できる全ての環境を表示\n",
    "from gym import envs\n",
    "print(envs.registry.all())"
   ]
  },
  {
   "cell_type": "code",
   "execution_count": 10,
   "metadata": {
    "collapsed": false
   },
   "outputs": [
    {
     "name": "stderr",
     "output_type": "stream",
     "text": [
      "[2017-02-20 03:48:33,526] Making new env: Pong-v0\n"
     ]
    },
    {
     "name": "stdout",
     "output_type": "stream",
     "text": [
      "# of Actions : 6\n",
      "Shape of Observation : (210, 160, 3)\n"
     ]
    }
   ],
   "source": [
    "# 画像入力の環境を指定 （後でDQNをつかうため）\n",
    "ENV_NAME ='Pong-v0'\n",
    "\n",
    "# 環境の初期化\n",
    "env = gym.make(ENV_NAME)\n",
    "np.random.seed(123)\n",
    "env.seed(123)\n",
    "\n",
    "# インターフェイスの情報をもらっておく\n",
    "nb_actions = env.action_space.n\n",
    "\n",
    "print(\"# of Actions : {}\".format(nb_actions))\n",
    "print(\"Shape of Observation : {}\".format(env.observation_space.shape))"
   ]
  },
  {
   "cell_type": "code",
   "execution_count": 11,
   "metadata": {
    "collapsed": false
   },
   "outputs": [
    {
     "name": "stdout",
     "output_type": "stream",
     "text": [
      "(210, 160, 3)\n"
     ]
    },
    {
     "data": {
      "image/png": "[encoded data removed]",
      "text/plain": [
       "<matplotlib.figure.Figure at 0x104510ed0>"
      ]
     },
     "metadata": {},
     "output_type": "display_data"
    }
   ],
   "source": [
    "from rl.core import Processor\n",
    "\n",
    "# Pillow が必要\n",
    "from PIL import Image\n",
    "\n",
    "INPUT_SHAPE = (84, 84)\n",
    "\n",
    "class AtariProcessor(Processor):\n",
    "    def process_observation(self, observation):\n",
    "        assert observation.ndim == 3  # (height, width, channel)\n",
    "        img = Image.fromarray(observation)\n",
    "        img = img.resize(INPUT_SHAPE).convert('L')  # resize and convert to grayscale\n",
    "        processed_observation = np.array(img)\n",
    "        assert processed_observation.shape == INPUT_SHAPE\n",
    "        return processed_observation.astype('uint8')  # saves storage in experience memory\n",
    "\n",
    "    def process_state_batch(self, batch):\n",
    "        processed_batch = batch.astype('float32') / 255.\n",
    "        return processed_batch\n",
    "\n",
    "    def process_reward(self, reward):\n",
    "        return np.clip(reward, -1., 1.)\n",
    "    \n",
    "processor = AtariProcessor()\n",
    "\n",
    "obs = env.reset()\n",
    "plt.imshow(obs)\n",
    "print(obs.shape)"
   ]
  },
  {
   "cell_type": "code",
   "execution_count": 12,
   "metadata": {
    "collapsed": false
   },
   "outputs": [
    {
     "name": "stdout",
     "output_type": "stream",
     "text": [
      "____________________________________________________________________________________________________\n",
      "Layer (type)                     Output Shape          Param #     Connected to                     \n",
      "====================================================================================================\n",
      "permute_2 (Permute)              (None, 84, 84, 1)     0           permute_input_3[0][0]            \n",
      "____________________________________________________________________________________________________\n",
      "convolution2d_4 (Convolution2D)  (None, 20, 20, 32)    2080        permute_2[0][0]                  \n",
      "____________________________________________________________________________________________________\n",
      "activation_6 (Activation)        (None, 20, 20, 32)    0           convolution2d_4[0][0]            \n",
      "____________________________________________________________________________________________________\n",
      "convolution2d_5 (Convolution2D)  (None, 9, 9, 64)      32832       activation_6[0][0]               \n",
      "____________________________________________________________________________________________________\n",
      "activation_7 (Activation)        (None, 9, 9, 64)      0           convolution2d_5[0][0]            \n",
      "____________________________________________________________________________________________________\n",
      "convolution2d_6 (Convolution2D)  (None, 7, 7, 64)      36928       activation_7[0][0]               \n",
      "____________________________________________________________________________________________________\n",
      "activation_8 (Activation)        (None, 7, 7, 64)      0           convolution2d_6[0][0]            \n",
      "____________________________________________________________________________________________________\n",
      "flatten_2 (Flatten)              (None, 3136)          0           activation_8[0][0]               \n",
      "____________________________________________________________________________________________________\n",
      "dense_3 (Dense)                  (None, 512)           1606144     flatten_2[0][0]                  \n",
      "____________________________________________________________________________________________________\n",
      "activation_9 (Activation)        (None, 512)           0           dense_3[0][0]                    \n",
      "____________________________________________________________________________________________________\n",
      "dense_4 (Dense)                  (None, 6)             3078        activation_9[0][0]               \n",
      "____________________________________________________________________________________________________\n",
      "activation_10 (Activation)       (None, 6)             0           dense_4[0][0]                    \n",
      "====================================================================================================\n",
      "Total params: 1,681,062\n",
      "Trainable params: 1,681,062\n",
      "Non-trainable params: 0\n",
      "____________________________________________________________________________________________________\n",
      "None\n"
     ]
    }
   ],
   "source": [
    "import keras.backend as K\n",
    "from keras.models import Sequential\n",
    "from keras.layers import Convolution2D, Dense, Activation, Flatten, Permute\n",
    "from rl.memory import SequentialMemory\n",
    "\n",
    "# 深層パーセプトロン\n",
    "WINDOW_LENGTH = 1\n",
    "input_shape = (WINDOW_LENGTH,) + INPUT_SHAPE\n",
    "model = Sequential()\n",
    "if K.image_dim_ordering() == 'tf':\n",
    "    # (width, height, channels)\n",
    "    model.add(Permute((2, 3, 1), input_shape=input_shape))\n",
    "elif K.image_dim_ordering() == 'th':\n",
    "    # (channels, width, height)\n",
    "    model.add(Permute((1, 2, 3), input_shape=input_shape))\n",
    "else:\n",
    "    raise RuntimeError('Unknown image_dim_ordering.')\n",
    "model.add(Convolution2D(32, 8, 8, subsample=(4, 4)))\n",
    "model.add(Activation('relu'))\n",
    "model.add(Convolution2D(64, 4, 4, subsample=(2, 2)))\n",
    "model.add(Activation('relu'))\n",
    "model.add(Convolution2D(64, 3, 3, subsample=(1, 1)))\n",
    "model.add(Activation('relu'))\n",
    "model.add(Flatten())\n",
    "model.add(Dense(512))\n",
    "model.add(Activation('relu'))\n",
    "model.add(Dense(nb_actions))\n",
    "model.add(Activation('linear'))\n",
    "print(model.summary())\n",
    "\n",
    "# Memory Buffer\n",
    "memory = SequentialMemory(limit=1000000, window_length=WINDOW_LENGTH)"
   ]
  },
  {
   "cell_type": "code",
   "execution_count": 7,
   "metadata": {
    "collapsed": false
   },
   "outputs": [],
   "source": [
    "from rl.policy import LinearAnnealedPolicy, EpsGreedyQPolicy\n",
    "from rl.agents import DQNAgent\n",
    "from keras.optimizers import Adam\n",
    "\n",
    "# 線形にランダム選択確率を減少させる方策\n",
    "policy = LinearAnnealedPolicy(EpsGreedyQPolicy(),\n",
    "                              attr='eps',\n",
    "                              value_max=1.,\n",
    "                              value_min=.1,\n",
    "                              value_test=.05,\n",
    "                              nb_steps=1000000)\n",
    "\n",
    "# DQN エージェントを作成\n",
    "dqn = DQNAgent(model=model,\n",
    "               nb_actions=nb_actions,\n",
    "               policy=policy,\n",
    "               memory=memory,\n",
    "               processor=processor,\n",
    "               nb_steps_warmup=1000,\n",
    "               gamma=.99,\n",
    "               target_model_update=1000,\n",
    "               train_interval=4,\n",
    "               delta_clip=1.)\n",
    "\n",
    "optimizer = Adam(lr=.0001, epsilon=0.0001)\n",
    "dqn.compile(optimizer=optimizer, metrics=['mae'])"
   ]
  },
  {
   "cell_type": "code",
   "execution_count": 8,
   "metadata": {
    "collapsed": true
   },
   "outputs": [],
   "source": [
    "from rl.callbacks import Callback, TestLogger, ModelIntervalCheckpoint\n",
    "\n",
    "# コールバックを作成\n",
    "class PlotReward(Callback):\n",
    "    def on_train_begin(self, episode, logs={}):\n",
    "        self.episode_reward = []\n",
    "        self.fig = plt.figure(0)\n",
    "\n",
    "    def on_episode_end(self, episode, logs={}):\n",
    "        self.episode_reward.append(logs['episode_reward'])\n",
    "        self.show_result()\n",
    "\n",
    "    def show_result(self):\n",
    "        display.clear_output(wait=True)\n",
    "        display.display(plt.gcf())\n",
    "        plt.clf()\n",
    "        plt.plot(self.episode_reward, 'r')\n",
    "        plt.xlabel('Episode')\n",
    "        plt.ylabel('Total Reward')\n",
    "        plt.pause(0.001)\n",
    "\n",
    "callbacks = [PlotReward(), ModelIntervalCheckpoint(filepath='./weight_now.h5f', interval=10000)]"
   ]
  },
  {
   "cell_type": "code",
   "execution_count": null,
   "metadata": {
    "collapsed": false
   },
   "outputs": [],
   "source": [
    "# 学習\n",
    "dqn.fit(env, verbose=2, visualize=False, callbacks=callbacks, nb_steps=1750000)\n",
    "\n",
    "# モデルをそのまま保存\n",
    "dqn.model.save('mymdel.h5f', overwrite=True)"
   ]
  },
  {
   "cell_type": "code",
   "execution_count": null,
   "metadata": {
    "collapsed": true
   },
   "outputs": [],
   "source": [
    "# 最後に10 Episode評価\n",
    "dqn.test(env, nb_episodes=10, visualize=False)"
   ]
  }
 ],
 "metadata": {
  "kernelspec": {
   "display_name": "Python 2",
   "language": "python",
   "name": "python2"
  },
  "language_info": {
   "codemirror_mode": {
    "name": "ipython",
    "version": 2
   },
   "file_extension": ".py",
   "mimetype": "text/x-python",
   "name": "python",
   "nbconvert_exporter": "python",
   "pygments_lexer": "ipython2",
   "version": "2.7.12"
  }
 },
 "nbformat": 4,
 "nbformat_minor": 0
}
